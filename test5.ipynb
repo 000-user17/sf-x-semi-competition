{
 "cells": [
  {
   "cell_type": "code",
   "execution_count": 16,
   "metadata": {},
   "outputs": [],
   "source": [
    "def Dijkstra(G, start):\n",
    "    # 输入是从 0 开始，所以起始点减 1\n",
    "    inf = float('inf')\n",
    "    node_num = len(G)\n",
    "    # visited 代表哪些顶点加入过\n",
    "    visited = [0] * node_num\n",
    "    # 初始顶点到其余顶点的距离\n",
    "    dis = {node: G[start][node] for node in range(node_num)}\n",
    "    # parents 代表最终求出最短路径后，每个顶点的上一个顶点是谁，初始化为 -1，代表无上一个顶点\n",
    "    parents = {node: -1 for node in range(node_num)}\n",
    "    # 起始点加入进 visited 数组\n",
    "    visited[start] = 1\n",
    "    # 最开始的上一个顶点为初始顶点\n",
    "    last_point = start\n",
    "\n",
    "    for i in range(node_num - 1):\n",
    "        # 求出 dis 中未加入 visited 数组的最短距离和顶点\n",
    "        min_dis = inf\n",
    "        for j in range(node_num):\n",
    "            if visited[j] == 0 and dis[j] < min_dis:\n",
    "                min_dis = dis[j]\n",
    "                # 把该顶点做为下次遍历的上一个顶点\n",
    "                last_point = j\n",
    "        # 最短顶点假加入 visited 数组\n",
    "        visited[last_point] = 1\n",
    "        # 对首次循环做特殊处理，不然在首次循环时会没法求出该点的上一个顶点\n",
    "        if i == 0:\n",
    "            parents[last_point] = start\n",
    "        for k in range(node_num):\n",
    "            if G[last_point][k] < inf and dis[k] > dis[last_point] + G[last_point][k]:\n",
    "                # 如果有更短的路径，更新 dis 和 记录 parents\n",
    "                dis[k] = dis[last_point] + G[last_point][k]\n",
    "                parents[k] = last_point\n",
    "\n",
    "    # 因为从 0 开始，最后把顶点都加 1\n",
    "    return {key: values for key, values in dis.items()}, {key: values for key, values in parents.items()}\n"
   ]
  },
  {
   "cell_type": "code",
   "execution_count": 33,
   "metadata": {},
   "outputs": [
    {
     "name": "stdout",
     "output_type": "stream",
     "text": [
      "[0, 1, inf, 1, inf, inf, inf, inf, inf]\n",
      "[1, 0, 1, inf, 1, inf, inf, inf, inf]\n",
      "[inf, 1, 0, inf, inf, 1, inf, inf, inf]\n",
      "[1, inf, inf, 0, 1, inf, 1, inf, inf]\n",
      "[inf, 1, inf, 1, 0, 1, inf, 1, inf]\n",
      "[inf, inf, 1, inf, 1, 0, inf, inf, 1]\n",
      "[inf, inf, inf, 1, inf, inf, 0, 1, inf]\n",
      "[inf, inf, inf, inf, 1, inf, 1, 0, 1]\n",
      "[inf, inf, inf, inf, inf, 1, inf, 1, 0]\n"
     ]
    }
   ],
   "source": [
    "width = 3\n",
    "height = 3\n",
    "position_dict = {}\n",
    "pos_idx = 0\n",
    "for i in range(height):\n",
    "    for j in range(width):\n",
    "        position_dict[(i, j)] = pos_idx\n",
    "        pos_idx += 1\n",
    "\n",
    "'''\n",
    "0 1 2 3 4 5 6\n",
    "7 8 9 10 11 12 13\n",
    "...这样的序号\n",
    "'''\n",
    "graph = []\n",
    "inf = float('inf')\n",
    "for vertex in position_dict:\n",
    "    graph.append([inf for k in range(len(position_dict))])\n",
    "    idx = len(graph)-1\n",
    "    graph[idx][idx] = 0\n",
    "    for dx, dy in [(1,0), (-1,0), (0,1), (0,-1)]:\n",
    "        (pos_x, pos_y) = (vertex[0]+dx, vertex[1]+dy)\n",
    "        if (pos_x, pos_y) in position_dict:\n",
    "            graph[idx][position_dict[(pos_x, pos_y)]] = 1 #相邻顶点连通，且距离为1\n",
    "    print(graph[idx])"
   ]
  },
  {
   "cell_type": "code",
   "execution_count": 34,
   "metadata": {},
   "outputs": [
    {
     "data": {
      "text/plain": [
       "({0: 0, 1: 1, 2: 2, 3: 1, 4: 2, 5: 3, 6: 2, 7: 3, 8: 4},\n",
       " {0: -1, 1: 0, 2: 1, 3: -1, 4: 1, 5: 2, 6: 3, 7: 4, 8: 5})"
      ]
     },
     "execution_count": 34,
     "metadata": {},
     "output_type": "execute_result"
    }
   ],
   "source": [
    "Dijkstra(graph, 0)"
   ]
  }
 ],
 "metadata": {
  "kernelspec": {
   "display_name": "base",
   "language": "python",
   "name": "python3"
  },
  "language_info": {
   "codemirror_mode": {
    "name": "ipython",
    "version": 3
   },
   "file_extension": ".py",
   "mimetype": "text/x-python",
   "name": "python",
   "nbconvert_exporter": "python",
   "pygments_lexer": "ipython3",
   "version": "3.10.9"
  },
  "orig_nbformat": 4
 },
 "nbformat": 4,
 "nbformat_minor": 2
}
